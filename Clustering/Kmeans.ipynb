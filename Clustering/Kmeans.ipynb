{
 "cells": [
  {
   "cell_type": "code",
   "execution_count": 1,
   "id": "5f6c42b7",
   "metadata": {},
   "outputs": [],
   "source": [
    "import numpy as np\n",
    "import matplotlib.pyplot as plt"
   ]
  },
  {
   "cell_type": "code",
   "execution_count": 2,
   "id": "54f7ae45",
   "metadata": {},
   "outputs": [],
   "source": [
    "def e_distance(x1, x2):\n",
    "    return np.sqrt(np.sum((x1-x2)**2))"
   ]
  },
  {
   "cell_type": "code",
   "execution_count": 3,
   "id": "f1822e1e",
   "metadata": {},
   "outputs": [],
   "source": [
    "class kmeans:\n",
    "    def __init__(self, k=5, epoch=100, plot_steps = False):\n",
    "        self.k = k\n",
    "        self.epoch = epoch\n",
    "        self.plot_steps = plot_steps\n",
    "        \n",
    "    def predict(self, X):\n",
    "        self.x = X\n",
    "        self.n, p = X.shape\n",
    "        \n",
    "        random_index = np.random.choice(n, k, replace = False)\n",
    "        self.centroids = [self.X[idx] for indx in random_index]\n",
    "        \n",
    "        for _ in range(epoch):\n",
    "            self.clusters = self.create_clusters(self.centroids)\n",
    "            \n",
    "            if self.plot_steps:\n",
    "                self.plot()\n",
    "                \n",
    "            centroid_old = self.centroids\n",
    "            self.centroids = self.get_cluster(self.clusters)\n",
    "            \n",
    "        if is_converge(centroid_old, self.centroids):\n",
    "            break\n",
    "        \n",
    "        if self.plot_steps:\n",
    "            self.plot()\n",
    "            \n",
    "        return self.get_clusters_label(self.clusters)\n",
    "    \n",
    "    def closest_centroid(self, sample, centroids):\n",
    "        distance = [e_distance(sample, point) for point in centroids]\n",
    "        closest_index = np.argmin(distance)\n",
    "        return closest_index\n",
    "    \n",
    "    def create_clusters(self, centroids):\n",
    "        clusters = [[] for _ in range(self.k)]\n",
    "        \n",
    "        for idx, sample in enumerate(self.X):\n",
    "            closest_idx = self.closest_centroid(sample, centroids)\n",
    "            clusters[closest_idx].append(idx)\n",
    "        return clusters\n",
    "    \n",
    "    def get_clusters_label(self, clusters):\n",
    "        labels = np.empty(self.n)\n",
    "        \n",
    "        for clus_idx, cluster in enumerate(clusters):\n",
    "            for sample_idx in clusters:\n",
    "                labels[sample_idx] = clus_idx\n",
    "        return labels\n",
    "    \n",
    "    def get_centroids(self, clusters):\n",
    "        centroid = np.zeros(self.k)\n",
    "        for idx, cluster in enumerate(clusters):\n",
    "            cluster_mean = np.mean(self.x[idx], axis = 0)\n",
    "            centroids[idx] = cluster_mean\n",
    "        return centroids\n",
    "    \n",
    "    def is_converge(self, centroids_old, centroids):\n",
    "        distance = [e_distance(centroids_old[i], centroids[i]) \n",
    "                    for i in range(self.k)]\n",
    "        return sum(distance) = 0\n",
    "    \n",
    "        def plot(self):\n",
    "        fig, ax = plt.subplots(figsize=(12, 8))\n",
    "\n",
    "        for i, index in enumerate(self.clusters):\n",
    "            point = self.X[index].T\n",
    "            ax.scatter(*point)\n",
    "\n",
    "        for point in self.centroids:\n",
    "            ax.scatter(*point, marker=\"x\", color='black', linewidth=2)\n",
    "\n",
    "        plt.show()"
   ]
  },
  {
   "cell_type": "code",
   "execution_count": 9,
   "id": "6572a281",
   "metadata": {},
   "outputs": [
    {
     "data": {
      "text/plain": [
       "array([4, 3])"
      ]
     },
     "execution_count": 9,
     "metadata": {},
     "output_type": "execute_result"
    }
   ],
   "source": [
    "random_index = np.random.choice(5, 2, replace = False)\n",
    "random_index"
   ]
  },
  {
   "cell_type": "code",
   "execution_count": null,
   "id": "b752812e",
   "metadata": {},
   "outputs": [],
   "source": []
  },
  {
   "cell_type": "code",
   "execution_count": null,
   "id": "e8d8ac08",
   "metadata": {},
   "outputs": [],
   "source": []
  }
 ],
 "metadata": {
  "kernelspec": {
   "display_name": "Python 3 (ipykernel)",
   "language": "python",
   "name": "python3"
  },
  "language_info": {
   "codemirror_mode": {
    "name": "ipython",
    "version": 3
   },
   "file_extension": ".py",
   "mimetype": "text/x-python",
   "name": "python",
   "nbconvert_exporter": "python",
   "pygments_lexer": "ipython3",
   "version": "3.9.10"
  }
 },
 "nbformat": 4,
 "nbformat_minor": 5
}
