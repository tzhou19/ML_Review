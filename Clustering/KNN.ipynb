{
 "cells": [
  {
   "cell_type": "code",
   "execution_count": 21,
   "id": "24adac71",
   "metadata": {},
   "outputs": [],
   "source": [
    "import pandas as pd\n",
    "import numpy as np\n",
    "import operator"
   ]
  },
  {
   "cell_type": "code",
   "execution_count": 33,
   "id": "b4a6dbce",
   "metadata": {},
   "outputs": [],
   "source": [
    "def dataset():\n",
    "    group = np.array([[3, 104], [2, 100], [1, 81], [101, 10], [99, 5], [98, 2]])\n",
    "    labels = ['romantics', 'romantics', 'romantics', 'action', 'action', 'action']\n",
    "    return group, labels"
   ]
  },
  {
   "cell_type": "code",
   "execution_count": 31,
   "id": "cdfe3049",
   "metadata": {},
   "outputs": [],
   "source": [
    "def knn(in_x, x_labels, y_labels, k):\n",
    "    train_size = x_labels.shape[0]\n",
    "    distance = (in_x - group)**2\n",
    "    distance_sum = (distance.sum(axis = 1))**0.5\n",
    "    distance_sort = distance_sum.argsort()\n",
    "    classdict = {}\n",
    "    classdict = {}\n",
    "    for i in range(4):\n",
    "        vote_label = y_label[distance_sort[i]]\n",
    "        classdict[vote_label] = classdict.get(vote_label, 0) + 1\n",
    "    classdict_sort = sorted(classdict.items(), key = operator.itemgetter(1), reverse = True)\n",
    "    return classdict_sort[0][0]"
   ]
  },
  {
   "cell_type": "code",
   "execution_count": 34,
   "id": "23590d1c",
   "metadata": {},
   "outputs": [],
   "source": [
    "x_labels, y_labels = dataset()"
   ]
  },
  {
   "cell_type": "code",
   "execution_count": 35,
   "id": "3845bd0e",
   "metadata": {},
   "outputs": [
    {
     "data": {
      "text/plain": [
       "'romantics'"
      ]
     },
     "execution_count": 35,
     "metadata": {},
     "output_type": "execute_result"
    }
   ],
   "source": [
    "knn([18, 90], x_labels, y_labels, 3)"
   ]
  },
  {
   "cell_type": "code",
   "execution_count": 30,
   "id": "1023aedc",
   "metadata": {},
   "outputs": [
    {
     "data": {
      "text/plain": [
       "[['romantics', 3], ['action', 1]]"
      ]
     },
     "execution_count": 30,
     "metadata": {},
     "output_type": "execute_result"
    }
   ],
   "source": [
    "con_list = []\n",
    "for key in classdict.keys():\n",
    "    con_list.append([key, classdict[key]])\n",
    "sorted(con_list, key=lambda l:l[1], reverse=True)"
   ]
  },
  {
   "cell_type": "code",
   "execution_count": null,
   "id": "e9e97e95",
   "metadata": {},
   "outputs": [],
   "source": []
  }
 ],
 "metadata": {
  "kernelspec": {
   "display_name": "Python 3 (ipykernel)",
   "language": "python",
   "name": "python3"
  },
  "language_info": {
   "codemirror_mode": {
    "name": "ipython",
    "version": 3
   },
   "file_extension": ".py",
   "mimetype": "text/x-python",
   "name": "python",
   "nbconvert_exporter": "python",
   "pygments_lexer": "ipython3",
   "version": "3.9.10"
  }
 },
 "nbformat": 4,
 "nbformat_minor": 5
}
