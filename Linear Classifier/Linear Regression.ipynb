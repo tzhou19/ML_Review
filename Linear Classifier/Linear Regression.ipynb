{
 "cells": [
  {
   "cell_type": "code",
   "execution_count": 25,
   "id": "74cf00fe",
   "metadata": {},
   "outputs": [],
   "source": [
    "import pandas as pd\n",
    "import numpy as np\n",
    "import matplotlib.pyplot as plt "
   ]
  },
  {
   "cell_type": "code",
   "execution_count": 5,
   "id": "a1cf77fa",
   "metadata": {},
   "outputs": [
    {
     "data": {
      "text/html": [
       "<div>\n",
       "<style scoped>\n",
       "    .dataframe tbody tr th:only-of-type {\n",
       "        vertical-align: middle;\n",
       "    }\n",
       "\n",
       "    .dataframe tbody tr th {\n",
       "        vertical-align: top;\n",
       "    }\n",
       "\n",
       "    .dataframe thead th {\n",
       "        text-align: right;\n",
       "    }\n",
       "</style>\n",
       "<table border=\"1\" class=\"dataframe\">\n",
       "  <thead>\n",
       "    <tr style=\"text-align: right;\">\n",
       "      <th></th>\n",
       "      <th>housesize</th>\n",
       "      <th>rooms</th>\n",
       "      <th>price</th>\n",
       "    </tr>\n",
       "  </thead>\n",
       "  <tbody>\n",
       "    <tr>\n",
       "      <th>0</th>\n",
       "      <td>1600</td>\n",
       "      <td>3</td>\n",
       "      <td>329900</td>\n",
       "    </tr>\n",
       "    <tr>\n",
       "      <th>1</th>\n",
       "      <td>2400</td>\n",
       "      <td>3</td>\n",
       "      <td>369000</td>\n",
       "    </tr>\n",
       "    <tr>\n",
       "      <th>2</th>\n",
       "      <td>1416</td>\n",
       "      <td>2</td>\n",
       "      <td>232000</td>\n",
       "    </tr>\n",
       "    <tr>\n",
       "      <th>3</th>\n",
       "      <td>3000</td>\n",
       "      <td>4</td>\n",
       "      <td>539900</td>\n",
       "    </tr>\n",
       "    <tr>\n",
       "      <th>4</th>\n",
       "      <td>1985</td>\n",
       "      <td>4</td>\n",
       "      <td>299900</td>\n",
       "    </tr>\n",
       "  </tbody>\n",
       "</table>\n",
       "</div>"
      ],
      "text/plain": [
       "   housesize  rooms   price\n",
       "0       1600      3  329900\n",
       "1       2400      3  369000\n",
       "2       1416      2  232000\n",
       "3       3000      4  539900\n",
       "4       1985      4  299900"
      ]
     },
     "execution_count": 5,
     "metadata": {},
     "output_type": "execute_result"
    }
   ],
   "source": [
    "df = pd.read_csv('dataset.txt', sep = ',', index_col=False)\n",
    "df.columns = [\"housesize\", \"rooms\", \"price\"]\n",
    "df.head()"
   ]
  },
  {
   "cell_type": "code",
   "execution_count": 20,
   "id": "29035666",
   "metadata": {},
   "outputs": [],
   "source": [
    "# Normalize\n",
    "def normalize(df):\n",
    "    for i in range(0, df.shape[1]-1):\n",
    "        df[:, i] = (df[:, i] - np.mean(df[:, i]))/np.std(df[:, i])"
   ]
  },
  {
   "cell_type": "code",
   "execution_count": 23,
   "id": "3d965762",
   "metadata": {},
   "outputs": [],
   "source": [
    "def plot_data(x, y):\n",
    "    plt.xlabel('house size')\n",
    "    plt.ylabel('price')\n",
    "    plt.plot(x[:,0], y, 'bo')\n",
    "    plt.show()"
   ]
  },
  {
   "cell_type": "code",
   "execution_count": 43,
   "id": "0a3f4a39",
   "metadata": {},
   "outputs": [],
   "source": [
    "def dataset(df):\n",
    "    data = np.array(df, dtype=float)\n",
    "    plot_data(data[:,0:2], data[:, -1])\n",
    "    normalize(data)\n",
    "    return data[:, 0:2], data[:, -1]"
   ]
  },
  {
   "cell_type": "code",
   "execution_count": 67,
   "id": "4080cdaf",
   "metadata": {
    "scrolled": true
   },
   "outputs": [
    {
     "data": {
      "image/png": "[encoded data removed]",
      "text/plain": [
       "<Figure size 432x288 with 1 Axes>"
      ]
     },
     "metadata": {
      "needs_background": "light"
     },
     "output_type": "display_data"
    }
   ],
   "source": [
    "X_train, y_train = dataset(df)\n",
    "X_train = np.hstack((np.ones((X_train.shape[0],1)), X_train))\n",
    "y_train = np.reshape(y_train, (46,1))"
   ]
  },
  {
   "cell_type": "code",
   "execution_count": 71,
   "id": "e34b0f50",
   "metadata": {},
   "outputs": [],
   "source": [
    "def h(x, theta):\n",
    "    return x@theta"
   ]
  },
  {
   "cell_type": "code",
   "execution_count": 76,
   "id": "54520e71",
   "metadata": {},
   "outputs": [],
   "source": [
    "def cost_function(x, y, theta):\n",
    "    result = ((y-h(x, theta)).T @ (y-h(x, theta)))/(2*y_train.shape[0])\n",
    "    return result"
   ]
  },
  {
   "cell_type": "code",
   "execution_count": 88,
   "id": "8b9695b0",
   "metadata": {},
   "outputs": [],
   "source": [
    "def gradient_descent(x, y, theta, lr = 0.1, epoch = 10):\n",
    "    n = x.shape[0]\n",
    "    J_all = []\n",
    "    \n",
    "    for i in range(epoch):\n",
    "        h_x = h(x, theta)\n",
    "        dr_cost = (x.T @ (h_x-y))/n\n",
    "        theta = theta - lr*dr_cost\n",
    "        J_all.append(cost_function(x, y, theta))\n",
    "    return theta, J_all "
   ]
  },
  {
   "cell_type": "code",
   "execution_count": 90,
   "id": "4b4a7e6d",
   "metadata": {},
   "outputs": [],
   "source": [
    "def plot_cost(J_all, num_epochs):\n",
    "    plt.xlabel('Epochs')\n",
    "    plt.ylabel('Cost')\n",
    "    plt.plot(num_epochs, J_all, 'm', linewidth = \"5\")\n",
    "    plt.show()"
   ]
  },
  {
   "cell_type": "code",
   "execution_count": 95,
   "id": "6aad143b",
   "metadata": {},
   "outputs": [
    {
     "name": "stdout",
     "output_type": "stream",
     "text": [
      "Cost:  [[2.06669066e+09]]\n",
      "Parameters:  [[339110.44903458]\n",
      " [109594.77707842]\n",
      " [ -5572.08655189]]\n"
     ]
    },
    {
     "data": {
      "image/png": "[encoded data removed]",
      "text/plain": [
       "<Figure size 432x288 with 1 Axes>"
      ]
     },
     "metadata": {
      "needs_background": "light"
     },
     "output_type": "display_data"
    }
   ],
   "source": [
    "# x,y = load_data(\"house_price_data.txt\")\n",
    "# y = np.reshape(y, (46,1))\n",
    "# x = np.hstack((np.ones((x.shape[0],1)), x))\n",
    "theta = np.zeros((X_train.shape[1], 1))\n",
    "learning_rate = 0.1\n",
    "num_epochs = 100\n",
    "theta, J_all = gradient_descent(X_train, y_train, theta, learning_rate, num_epochs)\n",
    "J = cost_function(X_train, y_train, theta)\n",
    "print(\"Cost: \", J)\n",
    "print(\"Parameters: \", theta)\n",
    "\n",
    "#for testing and plotting cost \n",
    "n_epochs = []\n",
    "jplot = []\n",
    "count = 0\n",
    "for i in J_all:\n",
    "    jplot.append(i[0][0])\n",
    "    n_epochs.append(count)\n",
    "    count += 1\n",
    "jplot = np.array(jplot)\n",
    "n_epochs = np.array(n_epochs)\n",
    "plot_cost(jplot, n_epochs)\n",
    "\n",
    "# test(theta, [1600, 2])"
   ]
  },
  {
   "cell_type": "code",
   "execution_count": null,
   "id": "9ef180ed",
   "metadata": {},
   "outputs": [],
   "source": []
  }
 ],
 "metadata": {
  "kernelspec": {
   "display_name": "Python 3 (ipykernel)",
   "language": "python",
   "name": "python3"
  },
  "language_info": {
   "codemirror_mode": {
    "name": "ipython",
    "version": 3
   },
   "file_extension": ".py",
   "mimetype": "text/x-python",
   "name": "python",
   "nbconvert_exporter": "python",
   "pygments_lexer": "ipython3",
   "version": "3.9.10"
  }
 },
 "nbformat": 4,
 "nbformat_minor": 5
}
