{
 "cells": [
  {
   "cell_type": "code",
   "execution_count": 1,
   "id": "10ee296b",
   "metadata": {},
   "outputs": [],
   "source": [
    "import pandas as pd\n",
    "import numpy as np\n",
    "import matplotlib.pyplot as plt "
   ]
  },
  {
   "cell_type": "code",
   "execution_count": 4,
   "id": "88c05364",
   "metadata": {},
   "outputs": [],
   "source": [
    "class LR:\n",
    "    def sig(self, z):\n",
    "        return (1/(1+np.e**(z)))\n",
    "    \n",
    "    def cost_function(self, X, y, w):\n",
    "        z = np.dot(X, w)\n",
    "        predict_1 = y * np.log(self.sig(z))\n",
    "        predict_0 = 1 - (y * np.log(1-self.sig(z)))\n",
    "        return -sum(predict_1 + predict_0)/X.shape[0]\n",
    "    \n",
    "    def fit(self, X, y, lr = 0.1, epoch = 100):\n",
    "        loss = []\n",
    "        w = np.rand(X.shape[1])\n",
    "        n = X.shape[0]\n",
    "        \n",
    "        for i in range(epoch):\n",
    "            predicted = self.sig(np.dot(X,w))\n",
    "            w = w - lr * np.dot(X.T, predicted)/ n\n",
    "            loss.append(self.cost_function(X, y, w))\n",
    "        \n",
    "        self.w = w\n",
    "        self.loss = loss"
   ]
  },
  {
   "cell_type": "code",
   "execution_count": null,
   "id": "acb9a1bd",
   "metadata": {},
   "outputs": [],
   "source": []
  }
 ],
 "metadata": {
  "kernelspec": {
   "display_name": "Python 3 (ipykernel)",
   "language": "python",
   "name": "python3"
  },
  "language_info": {
   "codemirror_mode": {
    "name": "ipython",
    "version": 3
   },
   "file_extension": ".py",
   "mimetype": "text/x-python",
   "name": "python",
   "nbconvert_exporter": "python",
   "pygments_lexer": "ipython3",
   "version": "3.9.10"
  }
 },
 "nbformat": 4,
 "nbformat_minor": 5
}
