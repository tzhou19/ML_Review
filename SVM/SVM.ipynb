{
 "cells": [
  {
   "cell_type": "code",
   "execution_count": 2,
   "id": "fc568576",
   "metadata": {},
   "outputs": [],
   "source": [
    "import numpy as np"
   ]
  },
  {
   "cell_type": "code",
   "execution_count": 3,
   "id": "22b661f0",
   "metadata": {},
   "outputs": [],
   "source": [
    "class svm:\n",
    "    def __init__(self, lr = 0.1, lambda_para = 0.01, epoch = 1000):\n",
    "        self.lr = lr\n",
    "        self.lamda_para = lamda_para\n",
    "        self.epoch = epoch\n",
    "        self.w = None\n",
    "        self.b = None\n",
    "    \n",
    "    def fit(self, X, y):\n",
    "        n, p = X.shape\n",
    "        y_ = np.where(y <= 0, -1, 1)\n",
    "        self.w = np.zeros(n)\n",
    "        self.b = 0\n",
    "        \n",
    "        for i in range(epoch):\n",
    "            for index_x, x_i in range(X):\n",
    "                condition = y_[index_x] * (np.dot(x_i * w) - self.b) >= 1\n",
    "                if condition:\n",
    "                    self.w -= self.lr * (2*self.lambda_para*self.w)\n",
    "                else:\n",
    "                    self.w -= self.lr * (2*self.lambda_para*self.w - np.dot(x_i, y_[index_x]))\n",
    "                    self.b -= self.lr * y[index_x]\n",
    "                    \n",
    "    def predict(self, X):\n",
    "        predicted = np.dot(X, self.w) - self.b\n",
    "        return np.sign(predicted)"
   ]
  },
  {
   "cell_type": "code",
   "execution_count": null,
   "id": "d6ea3677",
   "metadata": {},
   "outputs": [],
   "source": []
  }
 ],
 "metadata": {
  "kernelspec": {
   "display_name": "Python 3 (ipykernel)",
   "language": "python",
   "name": "python3"
  },
  "language_info": {
   "codemirror_mode": {
    "name": "ipython",
    "version": 3
   },
   "file_extension": ".py",
   "mimetype": "text/x-python",
   "name": "python",
   "nbconvert_exporter": "python",
   "pygments_lexer": "ipython3",
   "version": "3.9.10"
  }
 },
 "nbformat": 4,
 "nbformat_minor": 5
}
